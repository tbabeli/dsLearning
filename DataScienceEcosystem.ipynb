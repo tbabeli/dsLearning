{
 "cells": [
  {
   "cell_type": "markdown",
   "id": "486d5e80",
   "metadata": {},
   "source": [
    "# Data Science Tools and Ecosystem\n"
   ]
  },
  {
   "cell_type": "markdown",
   "id": "078f009a",
   "metadata": {},
   "source": [
    "In this notebook, Data Science Tools and Ecosystems are summarized."
   ]
  },
  {
   "cell_type": "markdown",
   "id": "7f8820a9",
   "metadata": {},
   "source": [
    "__Objective__:\n",
    "- Popular Languages and Libraries in Data Science\n",
    "- Data Science Tools\n",
    "- Some Arithmetic expressions in Python"
   ]
  },
  {
   "cell_type": "markdown",
   "id": "be0b97ea",
   "metadata": {},
   "source": [
    "Some of the popular languages that Data Scientists use are:\n",
    "1. Python\n",
    "2. R\n",
    "3. SQL Languages"
   ]
  },
  {
   "cell_type": "markdown",
   "id": "793cf0c2",
   "metadata": {},
   "source": [
    "Some of the commonly used libaries used by Data Scientists include:\n",
    "1. Pandas\n",
    "2. Matplotlib\n",
    "3. Numpy\n",
    "  "
   ]
  },
  {
   "cell_type": "markdown",
   "id": "e9f35a9c",
   "metadata": {},
   "source": [
    "| Data Science Tools|\n",
    "| --- |\n",
    "| IBM Watson Studio |\n",
    "| IBM Cognos Dashboard Embedded |\n",
    "| RStudio|"
   ]
  },
  {
   "cell_type": "markdown",
   "id": "ad7854d6",
   "metadata": {},
   "source": [
    "### Below are a few examples of evaluating arithmetic expressions in Python"
   ]
  },
  {
   "cell_type": "code",
   "execution_count": 2,
   "id": "16d8f77c",
   "metadata": {},
   "outputs": [
    {
     "data": {
      "text/plain": [
       "19"
      ]
     },
     "execution_count": 2,
     "metadata": {},
     "output_type": "execute_result"
    }
   ],
   "source": [
    "# This is a simple arithmetic expression to multiply then add integers\n",
    "(3*4)+7"
   ]
  },
  {
   "cell_type": "code",
   "execution_count": 4,
   "id": "af080424",
   "metadata": {},
   "outputs": [
    {
     "name": "stdout",
     "output_type": "stream",
     "text": [
      "3.3333333333333335\n"
     ]
    }
   ],
   "source": [
    "# This will convert 200 minutes to hours by dividing by 60\n",
    "minutes = 200\n",
    "hours = minutes/60\n",
    "\n",
    "print(hours)"
   ]
  },
  {
   "cell_type": "markdown",
   "id": "8cd65d03",
   "metadata": {},
   "source": [
    "## Author:\n",
    "Thulani"
   ]
  },
  {
   "cell_type": "code",
   "execution_count": null,
   "id": "9369e312",
   "metadata": {},
   "outputs": [],
   "source": []
  }
 ],
 "metadata": {
  "kernelspec": {
   "display_name": "Python 3 (ipykernel)",
   "language": "python",
   "name": "python3"
  },
  "language_info": {
   "codemirror_mode": {
    "name": "ipython",
    "version": 3
   },
   "file_extension": ".py",
   "mimetype": "text/x-python",
   "name": "python",
   "nbconvert_exporter": "python",
   "pygments_lexer": "ipython3",
   "version": "3.9.7"
  }
 },
 "nbformat": 4,
 "nbformat_minor": 5
}
